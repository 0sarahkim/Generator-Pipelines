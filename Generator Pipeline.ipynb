{
 "cells": [
  {
   "cell_type": "markdown",
   "metadata": {},
   "source": [
    "Generator "
   ]
  },
  {
   "cell_type": "code",
   "execution_count": 433,
   "metadata": {},
   "outputs": [],
   "source": [
    "import itertools as it\n",
    "from functools import partial, reduce \n",
    "import collections\n",
    "\n",
    "def even(nums):\n",
    "    for n in nums:\n",
    "        if n%2 == 0:\n",
    "            yield n\n",
    "def odd(nums):\n",
    "    for n in nums:\n",
    "        if n%2 == 1:\n",
    "            yield n\n",
    "def square(nums):\n",
    "    for i, n in enumerate(nums):\n",
    "        yield n**2  \n",
    "\n",
    "def sqrt(nums):\n",
    "    for n in nums:\n",
    "        yield n**0.5\n",
    "\n",
    "def add_N(nums, N):\n",
    "    for n in nums:\n",
    "        yield n + N\n",
    "\n",
    "def mul_N(nums, N):\n",
    "    for n in nums:\n",
    "        yield n * N \n",
    "\n",
    "def head_N(nums, N):\n",
    "    return it.islice(nums, int(N))\n",
    "\n",
    "def tail_N(nums, N):\n",
    "    return iter(collections.deque(nums, N))"
   ]
  },
  {
   "cell_type": "code",
   "execution_count": 434,
   "metadata": {},
   "outputs": [],
   "source": [
    "def evaluation(str):\n",
    "    tmp = str.split('|')\n",
    "    tmp = [i.strip() for i in tmp]\n",
    "    main = (number for number in range(10))\n",
    "    for i in tmp:\n",
    "        if i == 'even':\n",
    "            main = eval(i)(main)\n",
    "        elif i == 'odd':\n",
    "            main = eval(i)(main)\n",
    "        elif i == 'square':\n",
    "            fmain = eval(i)(main)\n",
    "        elif i == 'sqrt':\n",
    "            main = eval(i)(main)\n",
    "        elif i[0] == '+':\n",
    "            main = add_N(main, int(i[-1]))\n",
    "        elif i[0] == '*':\n",
    "            main = mul_N(main, int(i[-1]))\n",
    "        elif i[0] == 'h':\n",
    "            main = head_N(main, int(i[-1]))\n",
    "        elif i[0] == 't':\n",
    "            main = tail_N(main, int(i[-1]))\n",
    "\n",
    "    return main "
   ]
  },
  "language_info": {
   "codemirror_mode": {
    "name": "ipython",
    "version": 3
   },
   "file_extension": ".py",
   "mimetype": "text/x-python",
   "name": "python",
   "nbconvert_exporter": "python",
   "pygments_lexer": "ipython3",
   "version": "3.8.8"
  },
  "orig_nbformat": 4
 },
 "nbformat": 4,
 "nbformat_minor": 2
}
